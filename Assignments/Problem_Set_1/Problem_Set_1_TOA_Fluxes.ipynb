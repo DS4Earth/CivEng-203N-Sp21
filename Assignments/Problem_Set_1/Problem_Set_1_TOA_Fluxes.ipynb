{
  "nbformat": 4,
  "nbformat_minor": 0,
  "metadata": {
    "kernelspec": {
      "display_name": "Python 3",
      "language": "python",
      "name": "python3"
    },
    "language_info": {
      "codemirror_mode": {
        "name": "ipython",
        "version": 3
      },
      "file_extension": ".py",
      "mimetype": "text/x-python",
      "name": "python",
      "nbconvert_exporter": "python",
      "pygments_lexer": "ipython3",
      "version": "3.7.8"
    },
    "colab": {
      "name": "Problem_Set_1_TOA_Fluxes.ipynb",
      "provenance": [],
      "include_colab_link": true
    }
  },
  "cells": [
    {
      "cell_type": "markdown",
      "metadata": {
        "id": "view-in-github",
        "colab_type": "text"
      },
      "source": [
        "<a href=\"https://colab.research.google.com/github/DS4Earth/CivEng-203N-Sp21/blob/main/Assignments/Problem_Set_1/Problem_Set_1_TOA_Fluxes.ipynb\" target=\"_parent\"><img src=\"https://colab.research.google.com/assets/colab-badge.svg\" alt=\"Open In Colab\"/></a>"
      ]
    },
    {
      "cell_type": "markdown",
      "metadata": {
        "id": "TSk7VaqP3bDx"
      },
      "source": [
        "# Assignment 1: Xarray Fundamentals with Atmospheric Radiation Data\n",
        "\n",
        "In this assignment, we will use Xarray to analyze top-of-atmosphere radiation data from [NASA's CERES project](https://ceres.larc.nasa.gov/).\n",
        "\n",
        "<img src=\"https://upload.wikimedia.org/wikipedia/commons/b/bb/The-NASA-Earth%27s-Energy-Budget-Poster-Radiant-Energy-System-satellite-infrared-radiation-fluxes.jpg\" width=65%>\n",
        "\n",
        "_Public domain, by NASA, from Wikimedia Commons_\n",
        "\n",
        "\n",
        "A pre-downloaded and subsetted a portion of the CERES dataset is available here: http://ldeo.columbia.edu/~rpa/CERES_EBAF-TOA_Edition4.0_200003-201701.condensed.nc. The size of the data file is 702.53 MB. It may take a few minutes to download.\n",
        "\n",
        "Please review the CERES [FAQs](https://ceres.larc.nasa.gov/resources/faqs) before getting started.\n",
        "\n",
        "This is a nice visualization of the energy budget from [NASA](https://svs.gsfc.nasa.gov/4794)\n",
        "\n",
        "This is good background reading on [Earth's energy budget](https://earthobservatory.nasa.gov/features/EnergyBalance)\n",
        "\n",
        "For an xarray review, see this [tutorial](https://earth-env-data-science.github.io/lectures/xarray/xarray_intro.html)\n",
        "and the [xarray documentation.](https://xarray.pydata.org/en/stable/index.html)\n",
        "\n",
        "Start by importing Numpy, Matplotlib, and Xarray. Set the default figure size to (12, 6) - this can be done by setting matplotlib plt.rcParams()."
      ]
    },
    {
      "cell_type": "code",
      "metadata": {
        "id": "fj6bTK3x3bD2"
      },
      "source": [
        ""
      ],
      "execution_count": null,
      "outputs": []
    },
    {
      "cell_type": "markdown",
      "metadata": {
        "id": "-pZBt72n3bD2"
      },
      "source": [
        "Next, download the NetCDF file using wget (remember Colab requires a '!' before a linux shell command such as wget)."
      ]
    },
    {
      "cell_type": "code",
      "metadata": {
        "id": "bXKRClOK3bD3"
      },
      "source": [
        ""
      ],
      "execution_count": null,
      "outputs": []
    },
    {
      "cell_type": "markdown",
      "metadata": {
        "id": "HVXuyIr73bD3"
      },
      "source": [
        "## 1.1) Open the dataset and display its contents \n"
      ]
    },
    {
      "cell_type": "code",
      "metadata": {
        "id": "Zd5wRQoc3bD3"
      },
      "source": [
        ""
      ],
      "execution_count": null,
      "outputs": []
    },
    {
      "cell_type": "markdown",
      "metadata": {
        "id": "1L8JX1KR3bD3"
      },
      "source": [
        "## 1.2) Print out the `long_name` attribute of each variable\n",
        "Print `variable`: `long name` for each variable. Format the output so that the start of the `long name` attributes are aligned. Hint: xarray.Dataset.variables can be used to iterate over variables in an xarray dataset and xarray.DataArray.attrs to return the 'long_name' attribute. Another hint: executing xarray.variable in a cell will print the details for that variable, including the attributes. "
      ]
    },
    {
      "cell_type": "code",
      "metadata": {
        "id": "atXb2JX43bD3"
      },
      "source": [
        ""
      ],
      "execution_count": null,
      "outputs": []
    },
    {
      "cell_type": "markdown",
      "metadata": {
        "id": "TfHm16x43bD4"
      },
      "source": [
        "## 2.1) Calculate the time-mean of the entire dataset"
      ]
    },
    {
      "cell_type": "code",
      "metadata": {
        "id": "mN-BhBNa3bD4"
      },
      "source": [
        ""
      ],
      "execution_count": null,
      "outputs": []
    },
    {
      "cell_type": "markdown",
      "metadata": {
        "id": "uEMOsSXe3bD4"
      },
      "source": [
        "## 2.2) From this, make a 2D plot of the the time-mean TOA longwave, shortwave, and solar radiation\n",
        "(All-Sky conditions)\n",
        "\n",
        "Note the sign conventions on each variable.\n",
        "\n",
        "Hint: for plotting, an easy starting point is xr.DataArray.plot(), where DataArray can be accessed for each variable in a dataset by xr.Dataset.variable. The general xr.DataArray.plot() is just a wrapper for matplotlib that uses the coordinates for the variables to set \"reasonable\" plotting parameters and labels. "
      ]
    },
    {
      "cell_type": "code",
      "metadata": {
        "id": "SVGW0p0b3bD4"
      },
      "source": [
        ""
      ],
      "execution_count": null,
      "outputs": []
    },
    {
      "cell_type": "markdown",
      "metadata": {
        "id": "P8LbE7Ho3bD4"
      },
      "source": [
        "## 2.3) Add up the three variables above and verify (visually) that they are equivalent to the TOA net flux\n",
        "\n",
        "You have to pay attention to and think carefully about the sign conventions for each variable in order to get this to work."
      ]
    },
    {
      "cell_type": "code",
      "metadata": {
        "id": "X6oJIc1M3bD5"
      },
      "source": [
        ""
      ],
      "execution_count": null,
      "outputs": []
    },
    {
      "cell_type": "code",
      "metadata": {
        "id": "d-daIoYs3bD5"
      },
      "source": [
        ""
      ],
      "execution_count": null,
      "outputs": []
    },
    {
      "cell_type": "markdown",
      "metadata": {
        "id": "hsaGDSc03bD5"
      },
      "source": [
        "## 3.1) Calculate the global mean of TOA net radiation directly from the dataset\n",
        "\n",
        "Since the Earth is approximately in radiative balance, the net TOA radiation should be zero. But taking the naive mean from this dataset, you should find a number far from zero. Why?"
      ]
    },
    {
      "cell_type": "code",
      "metadata": {
        "id": "SyRfWdOu3bD5"
      },
      "source": [
        ""
      ],
      "execution_count": null,
      "outputs": []
    },
    {
      "cell_type": "markdown",
      "metadata": {
        "id": "gV2MzNOs3bD5"
      },
      "source": [
        "The answer is that each \"pixel\" or \"grid point\" of this dataset does not represent an equal area of Earth's surface. So naively taking the mean, i.e. giving equal weight to each point, gives the wrong answer.\n",
        "\n",
        "On a lat / lon grid, the relative area of each grid point is proportional to $\\cos(\\lambda)$. ($\\lambda$ is latitude in radians.)\n",
        "\n",
        "## 3.2) Create a `weight` array proportional to $\\cos(\\lambda)$ with a mean value of 1\n",
        "\n",
        "Verify its mean is 1 and plot it. Be careful about radians vs. degrees."
      ]
    },
    {
      "cell_type": "code",
      "metadata": {
        "id": "lvYafF493bD6"
      },
      "source": [
        ""
      ],
      "execution_count": null,
      "outputs": []
    },
    {
      "cell_type": "code",
      "metadata": {
        "id": "ND97L6se3bD6"
      },
      "source": [
        ""
      ],
      "execution_count": null,
      "outputs": []
    },
    {
      "cell_type": "markdown",
      "metadata": {
        "id": "joQUwwhh3bD6"
      },
      "source": [
        "## 3.3) Redo your global mean TOA net radiation calculation with this weight factor\n",
        "\n",
        "Remember Xarray's [handling of broadcasting](http://xarray.pydata.org/en/stable/computation.html#broadcasting-by-dimension-name). Don't make this harder than it needs to be."
      ]
    },
    {
      "cell_type": "code",
      "metadata": {
        "id": "ifq6svtF3bD6"
      },
      "source": [
        ""
      ],
      "execution_count": null,
      "outputs": []
    },
    {
      "cell_type": "markdown",
      "metadata": {
        "id": "MquIv1DU3bD6"
      },
      "source": [
        "This time around, you should have found something much closer to zero. Ask a climate scientist what the net energy imbalance of Earth due to global warming is estimate to be. Do you think our calculation is precise enough to detect this? \n",
        "\n",
        "## 3.4) Now that you have a `weight` factor, verify that the TOA incoming solar, outgoing longwave, and outgoing shortwave approximately match up with infographic shown in the first cell of this assignment"
      ]
    },
    {
      "cell_type": "code",
      "metadata": {
        "id": "xfgo4gLv3bD6"
      },
      "source": [
        ""
      ],
      "execution_count": null,
      "outputs": []
    },
    {
      "cell_type": "code",
      "metadata": {
        "id": "6_-Tdyw13bD6"
      },
      "source": [
        ""
      ],
      "execution_count": null,
      "outputs": []
    },
    {
      "cell_type": "code",
      "metadata": {
        "id": "Q-pwYczX3bD7"
      },
      "source": [
        ""
      ],
      "execution_count": null,
      "outputs": []
    },
    {
      "cell_type": "markdown",
      "metadata": {
        "id": "lTJt_XOW3bD7"
      },
      "source": [
        "We can go beyond a weight factor and actually calculate the area of each pixel of the dataset, using the formula\n",
        "\n",
        "$$ dA = R^2 \\cos(\\lambda) d\\lambda d \\varphi $$\n",
        "\n",
        "where $d\\lambda$ and $d\\varphi$ are the spacing of the points in latitude and longitude (measured in radians). We can approximate Earth's radius as $R = 6,371$ km.\n",
        "\n",
        "## 4.1) calculate the pixel area using this formula and create a 2D (lon, lat) DataArray for it\n",
        "\n",
        "(Xarray's `ones_like` function can help you easily create and broadcast DataArrays.) Verify that the sum of all the pixels equals the Earth's true surface area as evaluated using the formula for the area of a sphere (yes, the Earth is not a sphere ... it's just a homework problem)."
      ]
    },
    {
      "cell_type": "code",
      "metadata": {
        "id": "Pim9mhgd3bD7"
      },
      "source": [
        ""
      ],
      "execution_count": null,
      "outputs": []
    },
    {
      "cell_type": "markdown",
      "metadata": {
        "id": "8LYtRm4-3bD7"
      },
      "source": [
        "Multiplying the pixel area from above with the radiative flux gives you the total amount of radiation absorbed in each pixel\n",
        "\n",
        "## 4.2) Calculate and plot the total amount of net radiation in each 1-degree latitude band\n",
        "\n",
        "Label with correct units"
      ]
    },
    {
      "cell_type": "code",
      "metadata": {
        "id": "k5AJ4sYm3bD7"
      },
      "source": [
        ""
      ],
      "execution_count": null,
      "outputs": []
    },
    {
      "cell_type": "markdown",
      "metadata": {
        "id": "mirTPg1w3bD7"
      },
      "source": [
        "## 4.3) Plot the cumulative sum in latitude of that quantity\n",
        "\n",
        "Label with correct units. (Hint: check out xarray's [cumsum](http://xarray.pydata.org/en/stable/generated/xarray.DataArray.cumsum.html) function.)\n",
        "\n",
        "This curve tells you how much energy must be transported meridionally by the ocean and atmosphere in order to account for the radiative imbalance at the top of the atmosphere."
      ]
    },
    {
      "cell_type": "code",
      "metadata": {
        "id": "BX0biCQg3bD8"
      },
      "source": [
        ""
      ],
      "execution_count": null,
      "outputs": []
    },
    {
      "cell_type": "markdown",
      "metadata": {
        "id": "uzAkcfy83bD8"
      },
      "source": [
        "You should get a curve that looks something like this: http://www.cgd.ucar.edu/cas/papers/jclim2001a/Fig7.html"
      ]
    },
    {
      "cell_type": "markdown",
      "metadata": {
        "id": "Tr3_LSiA3bD8"
      },
      "source": [
        "## 5.1) Plot the time-mean cloud area fraction (day and night)"
      ]
    },
    {
      "cell_type": "code",
      "metadata": {
        "id": "HEs8MbWf3bD8"
      },
      "source": [
        ""
      ],
      "execution_count": null,
      "outputs": []
    },
    {
      "cell_type": "markdown",
      "metadata": {
        "id": "n532d5Ae3bD8"
      },
      "source": [
        "## 5.2) Define boolean masks for low cloud area ($\\le$ 25%) and high cloud area ($\\ge$ 75%)\n",
        "\n",
        "Use the whole dataset, not the time mean."
      ]
    },
    {
      "cell_type": "code",
      "metadata": {
        "id": "wSNjhXeI3bD8"
      },
      "source": [
        ""
      ],
      "execution_count": null,
      "outputs": []
    },
    {
      "cell_type": "markdown",
      "metadata": {
        "id": "eTM60l5E3bD8"
      },
      "source": [
        "## 5.3) Calculate and plot composites of time-mean outgoing shortwave and longwave radiation for low and high cloud area regions\n",
        "\n",
        "Your results should be 2D maps.\n",
        "\n",
        "Xarray's [where](http://xarray.pydata.org/en/stable/generated/xarray.DataArray.where.html) function will be helpful. This may generate a warning regarding the mean of an empty slice which you can ignore."
      ]
    },
    {
      "cell_type": "code",
      "metadata": {
        "id": "ZNU2Pt5U3bD9"
      },
      "source": [
        ""
      ],
      "execution_count": null,
      "outputs": []
    },
    {
      "cell_type": "code",
      "metadata": {
        "id": "bPc8Tsor3bD9"
      },
      "source": [
        ""
      ],
      "execution_count": null,
      "outputs": []
    },
    {
      "cell_type": "code",
      "metadata": {
        "id": "HPO70f0f3bD9"
      },
      "source": [
        ""
      ],
      "execution_count": null,
      "outputs": []
    },
    {
      "cell_type": "markdown",
      "metadata": {
        "id": "VlOUpy-e3bD9"
      },
      "source": [
        "## 5.4) Using the `weight` factor from 3.2, calculate the global mean values of shortwave and longwave radiation, composited in high and low cloud regions"
      ]
    },
    {
      "cell_type": "code",
      "metadata": {
        "id": "GE0JaEFY3bD9"
      },
      "source": [
        ""
      ],
      "execution_count": null,
      "outputs": []
    },
    {
      "cell_type": "code",
      "metadata": {
        "id": "LT0f3_g53bD9"
      },
      "source": [
        ""
      ],
      "execution_count": null,
      "outputs": []
    },
    {
      "cell_type": "markdown",
      "metadata": {
        "id": "wL_dGhr73bD9"
      },
      "source": [
        "What is the overall effect of clouds on shortwave and longwave radiation?"
      ]
    },
    {
      "cell_type": "markdown",
      "metadata": {
        "id": "E0F2L4Zi3bD9"
      },
      "source": [
        " "
      ]
    }
  ]
}